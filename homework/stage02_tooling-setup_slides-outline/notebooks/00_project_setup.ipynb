{
 "cells": [
  {
   "cell_type": "code",
   "execution_count": 1,
   "id": "65098057-d192-4cdd-b737-f70d84439312",
   "metadata": {},
   "outputs": [],
   "source": [
    "# Environment & Config Check"
   ]
  },
  {
   "cell_type": "code",
   "execution_count": 2,
   "id": "42a6b926-d6bd-4d3f-9864-7063647898d7",
   "metadata": {},
   "outputs": [
    {
     "name": "stdout",
     "output_type": "stream",
     "text": [
      "API_KEY present: True\n"
     ]
    }
   ],
   "source": [
    "from dotenv import load_dotenv\n",
    "import os\n",
    "\n",
    "load_dotenv()\n",
    "print(\"API_KEY present:\", bool(os.getenv(\"API_KEY\")))\n"
   ]
  },
  {
   "cell_type": "code",
   "execution_count": 3,
   "id": "8d9f47ff-4934-4d39-8603-a9a8db61e9f5",
   "metadata": {},
   "outputs": [
    {
     "name": "stdout",
     "output_type": "stream",
     "text": [
      "[5 7 9]\n"
     ]
    }
   ],
   "source": [
    "import numpy as np\n",
    "\n",
    "a = np.array([1, 2, 3])\n",
    "b = np.array([4, 5, 6])\n",
    "print(a + b)\n"
   ]
  },
  {
   "cell_type": "code",
   "execution_count": 2,
   "id": "29f3cfe3-a24a-4257-8e07-0ae7dfc432b4",
   "metadata": {},
   "outputs": [],
   "source": [
    "import sys\n",
    "from pathlib import Path\n",
    "\n",
    "sys.path.append(str(Path.cwd().parent))  # 如果当前目录是 notebooks/\n"
   ]
  },
  {
   "cell_type": "code",
   "execution_count": 3,
   "id": "ae16a5a7-e93c-41f7-af20-6070c408d293",
   "metadata": {},
   "outputs": [
    {
     "name": "stdout",
     "output_type": "stream",
     "text": [
      "API_KEY via get_key: True\n"
     ]
    }
   ],
   "source": [
    "from src.config import load_env, get_key\n",
    "\n",
    "load_env()\n",
    "print(\"API_KEY via get_key:\", bool(get_key(\"API_KEY\")))\n"
   ]
  },
  {
   "cell_type": "code",
   "execution_count": null,
   "id": "92c78f1f-36de-47c9-be9c-fd7ed54bdbda",
   "metadata": {},
   "outputs": [],
   "source": []
  }
 ],
 "metadata": {
  "kernelspec": {
   "display_name": "Python 3 (ipykernel)",
   "language": "python",
   "name": "python3"
  },
  "language_info": {
   "codemirror_mode": {
    "name": "ipython",
    "version": 3
   },
   "file_extension": ".py",
   "mimetype": "text/x-python",
   "name": "python",
   "nbconvert_exporter": "python",
   "pygments_lexer": "ipython3",
   "version": "3.11.13"
  }
 },
 "nbformat": 4,
 "nbformat_minor": 5
}

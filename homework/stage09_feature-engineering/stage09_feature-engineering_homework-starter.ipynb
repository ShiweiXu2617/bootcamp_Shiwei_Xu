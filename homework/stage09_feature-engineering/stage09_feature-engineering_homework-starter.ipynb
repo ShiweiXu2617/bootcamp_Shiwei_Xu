{
 "cells": [
  {
   "cell_type": "markdown",
   "id": "4a1d9861",
   "metadata": {},
   "source": [
    "# Stage 09 — Homework Starter Notebook\n",
    "\n",
    "In the lecture, we learned how to create engineered features. Now it’s your turn to apply those ideas to your own project data."
   ]
  },
  {
   "cell_type": "code",
   "execution_count": 3,
   "id": "a9d72d97-e4d6-4e17-9a19-4a173d9128aa",
   "metadata": {},
   "outputs": [],
   "source": [
    "#!pip install yfinance"
   ]
  },
  {
   "cell_type": "code",
   "execution_count": 10,
   "id": "c94d41ed",
   "metadata": {},
   "outputs": [
    {
     "name": "stderr",
     "output_type": "stream",
     "text": [
      "/var/folders/fb/dp06l0md363b9kz8ps6s732h0000gn/T/ipykernel_91707/937960966.py:5: FutureWarning: YF.download() has changed argument auto_adjust default to True\n",
      "  df_api = yf.download(\"NVDA\", period=\"6mo\", interval=\"1d\").reset_index()[[\"Date\", \"Close\", \"Volume\"]]\n",
      "[*********************100%***********************]  1 of 1 completed\n"
     ]
    }
   ],
   "source": [
    "import pandas as pd\n",
    "import numpy as np\n",
    "import yfinance as yf\n",
    "\n",
    "df_api = yf.download(\"NVDA\", period=\"6mo\", interval=\"1d\").reset_index()[[\"Date\", \"Close\", \"Volume\"]]\n",
    "df_api = df_api.tail(100).copy()\n",
    "df_api.columns = [\"date\", \"Close\", \"volume\"]\n",
    "df_api = df_api.sort_values(\"date\").reset_index(drop=True)"
   ]
  },
  {
   "cell_type": "markdown",
   "id": "165fb744",
   "metadata": {},
   "source": [
    "## TODO: Implement at least 2 engineered features here"
   ]
  },
  {
   "cell_type": "code",
   "execution_count": 12,
   "id": "05b69865-45ed-4cec-8597-f6a108257071",
   "metadata": {},
   "outputs": [],
   "source": [
    "# Example template:\n",
    "df_api[\"price_to_volume\"] = df_api[\"Close\"] / df_api[\"volume\"]\n",
    "# Add rationale in markdown below"
   ]
  },
  {
   "cell_type": "markdown",
   "id": "1162daa2",
   "metadata": {},
   "source": [
    "### Rationale for Feature 1\n",
    "Explain why this feature may help a model. Reference your EDA.\n",
    "\n",
    "### Rationale for Feature 1: Price-to-Volume Ratio\n",
    "During EDA on NVDA stock data, I noticed that price movements and trading volume do not always move together. \n",
    "Sometimes the stock price is high even when trading activity is relatively low. \n",
    "The ratio of price to volume summarizes this relationship into a single number, allowing the model to detect situations where price movements are strongly or weakly supported by market participation. \n",
    "This feature may help the model capture liquidity effects or potential overvaluation signals.\n"
   ]
  },
  {
   "cell_type": "code",
   "execution_count": null,
   "id": "fefa61d3",
   "metadata": {},
   "outputs": [],
   "source": [
    "# TODO: Add another feature\n",
    "# Example: df['rolling_spend_mean'] = df['monthly_spend'].rolling(3).mean()"
   ]
  },
  {
   "cell_type": "code",
   "execution_count": 13,
   "id": "38d12993-fff4-4989-88e5-008e41008a3c",
   "metadata": {},
   "outputs": [],
   "source": [
    "df_api[\"volume_roll7\"] = df_api[\"volume\"].rolling(window=7, min_periods=1).mean()"
   ]
  },
  {
   "cell_type": "markdown",
   "id": "54bc8551",
   "metadata": {},
   "source": [
    "### Rationale for Feature 2\n",
    "Explain why this feature may help a model. Reference your EDA.\n",
    "\n",
    "### Rationale for Feature 2: Rolling Average of Volume\n",
    "During EDA on NVDA stock data, I observed that daily trading volume is very volatile, with frequent spikes and drops. \n",
    "A single day’s trading volume may reflect random noise (e.g., news events or market anomalies), and relying only on raw daily volume could make the model unstable. \n",
    "By using a 7-day rolling average, this feature smooths out short-term fluctuations and captures the underlying trend in market activity. \n",
    "This helps the model better identify sustained increases or decreases in trading interest, which can be more predictive of price movements than noisy daily values.\n"
   ]
  }
 ],
 "metadata": {
  "kernelspec": {
   "display_name": "Python 3 (ipykernel)",
   "language": "python",
   "name": "python3"
  },
  "language_info": {
   "codemirror_mode": {
    "name": "ipython",
    "version": 3
   },
   "file_extension": ".py",
   "mimetype": "text/x-python",
   "name": "python",
   "nbconvert_exporter": "python",
   "pygments_lexer": "ipython3",
   "version": "3.11.13"
  }
 },
 "nbformat": 4,
 "nbformat_minor": 5
}
